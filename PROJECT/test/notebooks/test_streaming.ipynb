{
 "cells": [
  {
   "cell_type": "code",
   "execution_count": 55,
   "id": "624d6986-ddaa-47a1-9d12-9c1b3c799685",
   "metadata": {},
   "outputs": [],
   "source": [
    "from pyspark.sql.functions import explode, split, from_json, col\n",
    "from pyspark.sql.types import StructType, StructField, StringType, IntegerType, LongType"
   ]
  },
  {
   "cell_type": "code",
   "execution_count": 28,
   "id": "e0588509-189f-471b-8824-48eff83f9423",
   "metadata": {},
   "outputs": [],
   "source": [
    "import os\n",
    "from pyspark.sql import SparkSession\n",
    "\n",
    "spark = SparkSession.builder \\\n",
    "    .appName(\"StreamingTest\") \\\n",
    "    .config(\"spark.jars.packages\", \"org.apache.spark:spark-sql-kafka-0-10_2.12:3.5.0\") \\\n",
    "    .master(\"spark://spark-master:7077\") \\\n",
    "    .getOrCreate()"
   ]
  },
  {
   "cell_type": "code",
   "execution_count": 53,
   "id": "efe7ef17-c906-45c3-91bc-c1cd38dbf082",
   "metadata": {},
   "outputs": [],
   "source": [
    "df = spark.readStream.format(\"kafka\").option(\"kafka.bootstrap.servers\", \"kafka:9092\").option(\"subscribe\", \"bluesky-a1cb100f\").option(\"includeHeaders\", \"true\").load()"
   ]
  },
  {
   "cell_type": "code",
   "execution_count": 56,
   "id": "3df008c3-00e4-4ae3-9527-9dff1f25673f",
   "metadata": {},
   "outputs": [],
   "source": [
    "schema = StructType([ \n",
    "        StructField(\"did\", StringType(), True),\n",
    "        StructField(\"time_us\" , LongType(), True),\n",
    "        StructField(\"kind\" , StringType(), True),\n",
    "        StructField(\"commit\" , StructType([ \n",
    "            StructField(\"rev\", StringType(), True),\n",
    "            StructField(\"operation\" , StringType(), True),\n",
    "            StructField(\"collection\" , StringType(), True),\n",
    "            StructField(\"rkey\" , StringType(), True),\n",
    "            StructField(\"record\" , StructType([ \n",
    "                StructField(\"$type\", StringType(), True),\n",
    "                StructField(\"createdAt\" , StringType(), True),\n",
    "                StructField(\"text\" , StringType(), True),\n",
    "                ]), True),\n",
    "            StructField(\"cid\" , StringType(), True),\n",
    "            ]), True),\n",
    "        ])\n",
    "\n",
    "df = df.select(from_json(col(\"value\").cast(\"string\"), schema).alias(\"value\"))"
   ]
  },
  {
   "cell_type": "code",
   "execution_count": 57,
   "id": "f5db9f9b-5660-4ca8-b467-453dbb548cbf",
   "metadata": {},
   "outputs": [],
   "source": [
    "df = df.select(\n",
    "    col(\"value.did\").alias(\"did\"), \n",
    "    col(\"value.time_us\").alias(\"time_us\"), \n",
    "    col(\"value.kind\").alias(\"kind\"), \n",
    "    col(\"value.commit.rev\").alias(\"rev\"),\n",
    "    col(\"value.commit.operation\").alias(\"operation\"),\n",
    "    col(\"value.commit.collection\").alias(\"collection\"),\n",
    "    col(\"value.commit.rkey\").alias(\"rkey\"),\n",
    "    col(\"value.commit.record.$type\").alias(\"$type\"),\n",
    "    col(\"value.commit.record.createdAt\").alias(\"createdAt\"),\n",
    "    col(\"value.commit.record.text\").alias(\"text\"),\n",
    "    col(\"value.commit.cid\").alias(\"cid\"),\n",
    ")"
   ]
  },
  {
   "cell_type": "code",
   "execution_count": null,
   "id": "195ac1bc-4a29-41ce-a746-acb2f4cb1ab2",
   "metadata": {},
   "outputs": [],
   "source": [
    "df.writeStream.format(\"console\").outputMode(\"append\").start().awaitTermination()"
   ]
  },
  {
   "cell_type": "code",
   "execution_count": null,
   "id": "5cb58331-7c72-4d0a-9612-529b594947ec",
   "metadata": {},
   "outputs": [],
   "source": []
  }
 ],
 "metadata": {
  "kernelspec": {
   "display_name": "Python 3 (ipykernel)",
   "language": "python",
   "name": "python3"
  },
  "language_info": {
   "codemirror_mode": {
    "name": "ipython",
    "version": 3
   },
   "file_extension": ".py",
   "mimetype": "text/x-python",
   "name": "python",
   "nbconvert_exporter": "python",
   "pygments_lexer": "ipython3",
   "version": "3.11.6"
  }
 },
 "nbformat": 4,
 "nbformat_minor": 5
}

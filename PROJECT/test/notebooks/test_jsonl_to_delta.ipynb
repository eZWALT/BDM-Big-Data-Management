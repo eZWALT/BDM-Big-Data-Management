{
 "cells": [
  {
   "cell_type": "code",
   "execution_count": 1,
   "id": "85e67fa7-89d0-4499-8d57-e268065a2d6f",
   "metadata": {},
   "outputs": [
    {
     "name": "stdout",
     "output_type": "stream",
     "text": [
      "env: MINIO_HOST=minio\n",
      "env: MINIO_PORT=9000\n",
      "env: AWS_SECRET_KEY=EI1RW90H9KpLAaG8AOJlK1rnsEnWhfM5gvcfqq9d\n",
      "env: AWS_ACCESS_KEY=SFFTcTnl3QKhg5XxVW6O\n"
     ]
    }
   ],
   "source": [
    "%env MINIO_HOST=minio\n",
    "%env MINIO_PORT=9000\n",
    "%env AWS_SECRET_KEY=EI1RW90H9KpLAaG8AOJlK1rnsEnWhfM5gvcfqq9d\n",
    "%env AWS_ACCESS_KEY=SFFTcTnl3QKhg5XxVW6O"
   ]
  },
  {
   "cell_type": "code",
   "execution_count": 2,
   "id": "16b453c4-9cf1-40d1-aa0e-10e9162ff283",
   "metadata": {},
   "outputs": [],
   "source": [
    "import os\n",
    "from pyspark.sql import SparkSession\n",
    "\n",
    "spark = SparkSession.builder \\\n",
    "    .appName(\"MyApp\") \\\n",
    "    .config(\"spark.jars.packages\", \"org.apache.hadoop:hadoop-aws:3.3.1,io.delta:delta-spark_2.12:3.2.0\") \\\n",
    "    .config(\"spark.sql.extensions\", \"io.delta.sql.DeltaSparkSessionExtension\") \\\n",
    "    .config(\"spark.sql.catalog.spark_catalog\", \"org.apache.spark.sql.delta.catalog.DeltaCatalog\") \\\n",
    "    .config(\"spark.executorEnv.AWS_ACCESS_KEY\", os.environ[\"AWS_ACCESS_KEY\"]) \\\n",
    "    .config(\"spark.executorEnv.AWS_SECRET_KEY\", os.environ[\"AWS_SECRET_KEY\"]) \\\n",
    "    .config(\"spark.hadoop.fs.s3a.endpoint\", f\"http://{os.environ['MINIO_HOST']}:{os.environ['MINIO_PORT']}\") \\\n",
    "    .config(\"spark.hadoop.fs.s3a.path.style.access\", \"true\") \\\n",
    "    .master(\"spark://spark-master:7077\") \\\n",
    "    .getOrCreate()"
   ]
  },
  {
   "cell_type": "code",
   "execution_count": 7,
   "id": "4c8c89de-372e-4c77-a921-f2a008f9ed32",
   "metadata": {},
   "outputs": [],
   "source": [
    "input_path = \"buffer/bluesky-803b3eb2/posts\"\n",
    "output_path = \"landing/bluesky-803b3eb2/posts\""
   ]
  },
  {
   "cell_type": "code",
   "execution_count": 5,
   "id": "71ef9af2-f0b7-4dea-81af-71f809404461",
   "metadata": {},
   "outputs": [],
   "source": [
    "input_glob = f\"s3a://{input_path}/*.jsonl\"\n",
    "df = spark.read.json(input_glob)"
   ]
  },
  {
   "cell_type": "code",
   "execution_count": 6,
   "id": "7aa1db84-6ee9-4cb4-bb13-c695d9710146",
   "metadata": {},
   "outputs": [
    {
     "name": "stdout",
     "output_type": "stream",
     "text": [
      "+--------------------+--------------------+--------------------+--------------------+----------+-----------+-----------+------------+--------------------+--------------------+\n",
      "|          author_did| author_display_name|       author_handle|          created_at|like_count|quote_count|reply_count|repost_count|                text|                 uri|\n",
      "+--------------------+--------------------+--------------------+--------------------+----------+-----------+-----------+------------+--------------------+--------------------+\n",
      "|did:plc:z7oora4xf...|            Creaftar|creaftar.bsky.social|2025-05-16T00:34:...|         0|          0|          0|           0|📅 Crossword love...|at://did:plc:z7oo...|\n",
      "|did:plc:jco3xcyew...|     Wonders Norbits|wondersnorbet.bsk...|2025-05-16T00:33:...|         0|          0|          1|           0|Useful in artific...|at://did:plc:jco3...|\n",
      "|did:plc:qg65q5ilh...|              Andrew|andrew-does-stuff...|2025-05-16T00:29:...|         1|          0|          0|           0|There's no Art in...|at://did:plc:qg65...|\n",
      "|did:plc:ieqql4ogk...|       Reuters Legal|   legal.reuters.com|2025-05-16T00:24:...|         5|          0|          0|           2|An attorney defen...|at://did:plc:ieqq...|\n",
      "|did:plc:z7oora4xf...|            Creaftar|creaftar.bsky.social|2025-05-16T00:22:...|         1|          0|          0|           0|Let's see if you ...|at://did:plc:z7oo...|\n",
      "|did:plc:3shco5ze2...|David @ InnoVirtuoso|innovirtuoso.bsky...|2025-05-16T00:14:...|         0|          0|          0|           0|🌟 Lead with AI: ...|at://did:plc:3shc...|\n",
      "|did:plc:nalvxawvd...|NightmareCaster ★...|nightmarecaster.b...|2025-05-16T00:12:...|         2|          0|          0|           1|#brainiac #maws #...|at://did:plc:nalv...|\n",
      "|did:plc:z7oora4xf...|            Creaftar|creaftar.bsky.social|2025-05-16T00:11:...|         0|          0|          0|           0|Enjoy solving the...|at://did:plc:z7oo...|\n",
      "|did:plc:lc6hdhnjk...|Climate, Ecology,...|bigearthdata.bsky...|2025-05-16T00:07:...|         0|          0|          0|           0|An artificial int...|at://did:plc:lc6h...|\n",
      "|did:plc:rrtsfn5jy...|               Razor|sugarazor.bsky.so...|2025-05-16T00:05:...|         1|          0|          1|           0|And it will never...|at://did:plc:rrts...|\n",
      "|did:plc:7aapoof7p...|🛡️CTI & Cybersec...|cti-news.bsky.social|2025-05-16T00:04:...|         0|          0|          0|           0|💻  Leak confirms...|at://did:plc:7aap...|\n",
      "|did:plc:zif6is44f...|Elon Musk (Unoffi...|          elon.mu.sk|2025-05-16T00:02:...|         0|          0|          0|           0|The tech billiona...|at://did:plc:zif6...|\n",
      "|did:plc:z7oora4xf...|            Creaftar|creaftar.bsky.social|2025-05-16T00:02:...|         0|          0|          0|           0|Can you handle th...|at://did:plc:z7oo...|\n",
      "|did:plc:4hm6gb7dz...|           News Feed|news-feed.bsky.so...|2025-05-16T00:01:...|         0|          0|          0|           0|@business: A Chin...|at://did:plc:4hm6...|\n",
      "|did:plc:xssya5qcx...|      Caren with a C|   caren.bsky.social|2025-05-15T23:55:...|        31|          0|          0|           0|The most successf...|at://did:plc:xssy...|\n",
      "|did:plc:i3fhjvvkb...|The Wall Street J...|             wsj.com|2025-05-15T23:55:...|         9|          0|          4|           0|Review: The eight...|at://did:plc:i3fh...|\n",
      "|did:plc:i53e6y3li...|             Awakari| bluesky.awakari.com|2025-05-15T23:54:17Z|         0|          0|          0|           0|Elon Musk can’t e...|at://did:plc:i53e...|\n",
      "|did:plc:i53e6y3li...|             Awakari| bluesky.awakari.com|2025-05-15T23:54:14Z|         0|          0|          0|           0|Elon Musk can’t e...|at://did:plc:i53e...|\n",
      "|did:plc:s33lmvk7r...|                LLMs|LLMs.activitypub....|2025-05-15T23:53:...|         0|          0|          0|           0|Leak confirms Ope...|at://did:plc:s33l...|\n",
      "|did:plc:4p25k5r4x...|      50501 New York|50501newyork.bsky...|2025-05-16T00:46:...|         0|          0|          1|           0|What happens in a...|at://did:plc:4p25...|\n",
      "+--------------------+--------------------+--------------------+--------------------+----------+-----------+-----------+------------+--------------------+--------------------+\n",
      "only showing top 20 rows\n",
      "\n"
     ]
    }
   ],
   "source": [
    "df.show()"
   ]
  },
  {
   "cell_type": "code",
   "execution_count": 8,
   "id": "ab51a251-ca94-4af4-821c-bb673462ea7c",
   "metadata": {},
   "outputs": [],
   "source": [
    "df.write.format(\"delta\").mode(\"append\").save(f\"s3a://{output_path}\")"
   ]
  },
  {
   "cell_type": "code",
   "execution_count": 9,
   "id": "885db4c7-7afe-40c5-9000-f4dbfac5bdf0",
   "metadata": {},
   "outputs": [],
   "source": [
    "written_df = spark.read.format(\"delta\").load(f\"s3a://{output_path}\")"
   ]
  },
  {
   "cell_type": "code",
   "execution_count": 10,
   "id": "52970013-c61f-4435-86fc-2ee0f63685fe",
   "metadata": {},
   "outputs": [
    {
     "name": "stdout",
     "output_type": "stream",
     "text": [
      "+--------------------+--------------------+--------------------+--------------------+----------+-----------+-----------+------------+--------------------+--------------------+\n",
      "|          author_did| author_display_name|       author_handle|          created_at|like_count|quote_count|reply_count|repost_count|                text|                 uri|\n",
      "+--------------------+--------------------+--------------------+--------------------+----------+-----------+-----------+------------+--------------------+--------------------+\n",
      "|did:plc:is5eyhkd5...|                    |realaaai.bsky.social|2025-05-16T00:43:...|         0|          0|          0|           0|We are excited to...|at://did:plc:is5e...|\n",
      "|did:plc:x6qiwrjsq...|                  VH|purplevh80.bsky.s...|2025-05-16T00:43:...|         0|          0|          0|           0|What is the end g...|at://did:plc:x6qi...|\n",
      "|did:plc:zc7xnabun...|           MTimation|montanimation.bsk...|2025-05-16T00:38:52Z|         0|          0|          0|           0|Artificial intell...|at://did:plc:zc7x...|\n",
      "|did:plc:zc7xnabun...|           MTimation|montanimation.bsk...|2025-05-16T00:38:52Z|         0|          0|          0|           0|U.S. Unveils Swee...|at://did:plc:zc7x...|\n",
      "|did:plc:zc7xnabun...|           MTimation|montanimation.bsk...|2025-05-16T00:38:52Z|         0|          0|          0|           0|AI Will Double th...|at://did:plc:zc7x...|\n",
      "|did:plc:zc7xnabun...|           MTimation|montanimation.bsk...|2025-05-16T00:38:51Z|         0|          0|          0|           0|YouTube will star...|at://did:plc:zc7x...|\n",
      "|did:plc:zc7xnabun...|           MTimation|montanimation.bsk...|2025-05-16T00:38:51Z|         0|          0|          0|           0|Malicious actors ...|at://did:plc:zc7x...|\n",
      "|did:plc:widt5upyy...|          Eric Meyer|        meyerweb.com|2025-05-16T00:38:...|         2|          0|          0|           0|Or worse, are AI ...|at://did:plc:widt...|\n",
      "|did:plc:z7oora4xf...|            Creaftar|creaftar.bsky.social|2025-05-16T00:34:...|         0|          0|          0|           0|📅 Crossword love...|at://did:plc:z7oo...|\n",
      "|did:plc:jco3xcyew...|     Wonders Norbits|wondersnorbet.bsk...|2025-05-16T00:33:...|         0|          0|          1|           0|Useful in artific...|at://did:plc:jco3...|\n",
      "|did:plc:qg65q5ilh...|              Andrew|andrew-does-stuff...|2025-05-16T00:29:...|         2|          0|          0|           0|There's no Art in...|at://did:plc:qg65...|\n",
      "|did:plc:ieqql4ogk...|       Reuters Legal|   legal.reuters.com|2025-05-16T00:24:...|         6|          0|          0|           2|An attorney defen...|at://did:plc:ieqq...|\n",
      "|did:plc:z7oora4xf...|            Creaftar|creaftar.bsky.social|2025-05-16T00:22:...|         1|          0|          0|           0|Let's see if you ...|at://did:plc:z7oo...|\n",
      "|did:plc:3shco5ze2...|David @ InnoVirtuoso|innovirtuoso.bsky...|2025-05-16T00:14:...|         0|          0|          0|           0|🌟 Lead with AI: ...|at://did:plc:3shc...|\n",
      "|did:plc:nalvxawvd...|NightmareCaster ★...|nightmarecaster.b...|2025-05-16T00:12:...|         2|          0|          0|           1|#brainiac #maws #...|at://did:plc:nalv...|\n",
      "|did:plc:z7oora4xf...|            Creaftar|creaftar.bsky.social|2025-05-16T00:11:...|         0|          0|          0|           0|Enjoy solving the...|at://did:plc:z7oo...|\n",
      "|did:plc:lc6hdhnjk...|Climate, Ecology,...|bigearthdata.bsky...|2025-05-16T00:07:...|         0|          0|          0|           0|An artificial int...|at://did:plc:lc6h...|\n",
      "|did:plc:rrtsfn5jy...|               Razor|sugarazor.bsky.so...|2025-05-16T00:05:...|         2|          0|          1|           0|And it will never...|at://did:plc:rrts...|\n",
      "|did:plc:7aapoof7p...|🛡️CTI & Cybersec...|cti-news.bsky.social|2025-05-16T00:04:...|         0|          0|          0|           0|💻  Leak confirms...|at://did:plc:7aap...|\n",
      "|did:plc:zc7xnabun...|           MTimation|montanimation.bsk...|2025-05-16T00:38:52Z|         0|          0|          0|           0|U.S. Unveils Swee...|at://did:plc:zc7x...|\n",
      "+--------------------+--------------------+--------------------+--------------------+----------+-----------+-----------+------------+--------------------+--------------------+\n",
      "only showing top 20 rows\n",
      "\n"
     ]
    }
   ],
   "source": [
    "written_df.show()"
   ]
  }
 ],
 "metadata": {
  "kernelspec": {
   "display_name": "Python 3 (ipykernel)",
   "language": "python",
   "name": "python3"
  },
  "language_info": {
   "codemirror_mode": {
    "name": "ipython",
    "version": 3
   },
   "file_extension": ".py",
   "mimetype": "text/x-python",
   "name": "python",
   "nbconvert_exporter": "python",
   "pygments_lexer": "ipython3",
   "version": "3.11.6"
  }
 },
 "nbformat": 4,
 "nbformat_minor": 5
}

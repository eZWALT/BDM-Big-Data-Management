{
 "cells": [
  {
   "cell_type": "code",
   "execution_count": 1,
   "id": "5e3e7681-af0e-4bd9-8916-7a35ebb2ea47",
   "metadata": {},
   "outputs": [
    {
     "name": "stdout",
     "output_type": "stream",
     "text": [
      "env: MINIO_HOST=minio\n",
      "env: MINIO_PORT=9000\n",
      "env: AWS_SECRET_KEY=Z8lN07OWSzRqDjcqR8vTr5H9gsrFnSqEgV3z1gLD\n",
      "env: AWS_ACCESS_KEY=CAsXP1ZVRAQXyftGOAim\n"
     ]
    }
   ],
   "source": [
    "%env MINIO_HOST=minio\n",
    "%env MINIO_PORT=9000\n",
    "%env AWS_SECRET_KEY=Z8lN07OWSzRqDjcqR8vTr5H9gsrFnSqEgV3z1gLD\n",
    "%env AWS_ACCESS_KEY=CAsXP1ZVRAQXyftGOAim"
   ]
  },
  {
   "cell_type": "code",
   "execution_count": 2,
   "id": "17eae098-99b7-451f-9080-26a3506d4e79",
   "metadata": {},
   "outputs": [],
   "source": [
    "import os\n",
    "from pyspark.sql import SparkSession\n",
    "\n",
    "spark = SparkSession.builder \\\n",
    "    .appName(\"MyApp\") \\\n",
    "    .config(\"spark.jars.packages\", \"org.apache.hadoop:hadoop-aws:3.3.1,io.delta:delta-spark_2.12:3.2.0\") \\\n",
    "    .config(\"spark.sql.extensions\", \"io.delta.sql.DeltaSparkSessionExtension\") \\\n",
    "    .config(\"spark.sql.catalog.spark_catalog\", \"org.apache.spark.sql.delta.catalog.DeltaCatalog\") \\\n",
    "    .config(\"spark.executorEnv.AWS_ACCESS_KEY\", os.environ[\"AWS_ACCESS_KEY\"]) \\\n",
    "    .config(\"spark.executorEnv.AWS_SECRET_KEY\", os.environ[\"AWS_SECRET_KEY\"]) \\\n",
    "    .config(\"spark.hadoop.fs.s3a.endpoint\", f\"http://{os.environ['MINIO_HOST']}:{os.environ['MINIO_PORT']}\") \\\n",
    "    .config(\"spark.hadoop.fs.s3a.path.style.access\", \"true\") \\\n",
    "    .master(\"spark://spark-master:7077\") \\\n",
    "    .getOrCreate()"
   ]
  },
  {
   "cell_type": "code",
   "execution_count": 3,
   "id": "a1427321-13b7-4ae2-8db2-0302c9ef2305",
   "metadata": {},
   "outputs": [],
   "source": [
    "df = spark.read.format(\"delta\").load(\"s3a://exploitation/microsoft-edge\")"
   ]
  },
  {
   "cell_type": "code",
   "execution_count": 4,
   "id": "ee2196ce-ae7a-4bf4-b1ec-08d38e749d8a",
   "metadata": {},
   "outputs": [
    {
     "name": "stdout",
     "output_type": "stream",
     "text": [
      "+--------------------+--------------------+--------------------+--------------------+-------+-------+------+-----+-----------+-----------------+-----------------+-----------------+-----+------+--------+-----+-------+--------------------+\n",
      "|                 uri|                text|          created_at|          author_uri|reposts|replies|quotes|title|description|video_attachments|image_attachments|audio_attachments|views|shares|dislikes|likes| source|       extraction_id|\n",
      "+--------------------+--------------------+--------------------+--------------------+-------+-------+------+-----+-----------+-----------------+-----------------+-----------------+-----+------+--------+-----+-------+--------------------+\n",
      "|at://did:plc:226s...|          BING BONG!|2025-05-17 06:42:...|did:plc:226seyh44...|      0|      0|     0| NULL|       NULL|             NULL|             NULL|             NULL| NULL|  NULL|    NULL| NULL|bluesky|2025-05-17 20:49:...|\n",
      "|at://did:plc:22ls...|Raiders re-sign M...| 2025-05-17 15:08:07|did:plc:22lskm3yq...|      0|      0|     0| NULL|       NULL|             NULL|             NULL|             NULL| NULL|  NULL|    NULL| NULL|bluesky|2025-05-17 20:49:...|\n",
      "|at://did:plc:22ls...|Bears face pass-r...| 2025-05-17 18:12:36|did:plc:22lskm3yq...|      0|      0|     0| NULL|       NULL|             NULL|             NULL|             NULL| NULL|  NULL|    NULL| NULL|bluesky|2025-05-17 20:49:...|\n",
      "|at://did:plc:22n7...|@sophieschmieg @s...| 2025-05-16 19:05:30|did:plc:22n7xca5g...|      0|      0|     0| NULL|       NULL|             NULL|             NULL|             NULL| NULL|  NULL|    NULL| NULL|bluesky|2025-05-17 20:49:...|\n",
      "|at://did:plc:23mh...|I know we are lik...|2025-05-16 18:54:...|did:plc:23mhm63ih...|      0|      0|     0| NULL|       NULL|             NULL|             NULL|             NULL| NULL|  NULL|    NULL| NULL|bluesky|2025-05-17 20:49:...|\n",
      "|at://did:plc:23oi...|In all seriousnes...|2025-05-17 01:49:...|did:plc:23oikfxvt...|      0|      1|     0| NULL|       NULL|             NULL|             NULL|             NULL| NULL|  NULL|    NULL|    1|bluesky|2025-05-17 20:49:...|\n",
      "|at://did:plc:23sb...|My husband is dea...|2025-05-17 08:34:...|did:plc:23sbysipw...|      9|      0|     1| NULL|       NULL|             NULL|             NULL|             NULL| NULL|  NULL|    NULL|   68|bluesky|2025-05-17 20:49:...|\n",
      "|at://did:plc:23wj...|Make sure it’s in...|2025-05-16 23:08:...|did:plc:23wj2amjb...|      0|      1|     0| NULL|       NULL|             NULL|             NULL|             NULL| NULL|  NULL|    NULL|    2|bluesky|2025-05-17 20:49:...|\n",
      "|at://did:plc:24hn...|The French monarc...|2025-05-17 02:18:...|did:plc:24hnkyzkf...|      0|      0|     0| NULL|       NULL|             NULL|             NULL|             NULL| NULL|  NULL|    NULL| NULL|bluesky|2025-05-17 20:49:...|\n",
      "|at://did:plc:24kn...|Tooele County is ...|2025-05-17 11:31:...|did:plc:24kn54hk3...|      0|      0|     0| NULL|       NULL|             NULL|             NULL|             NULL| NULL|  NULL|    NULL| NULL|bluesky|2025-05-17 20:49:...|\n",
      "|at://did:plc:24yv...|there's nothing l...|2025-05-16 19:04:...|did:plc:24yvbfvux...|      0|      1|     0| NULL|       NULL|             NULL|             NULL|             NULL| NULL|  NULL|    NULL|    3|bluesky|2025-05-17 20:49:...|\n",
      "|at://did:plc:254f...|Playing on Edge 1...| 2025-05-16 14:50:06|did:plc:254fa7kdh...|      0|      0|     0| NULL|       NULL|             NULL|             NULL|             NULL| NULL|  NULL|    NULL| NULL|bluesky|2025-05-17 20:49:...|\n",
      "|at://did:plc:254f...|Playing on Edge 1...| 2025-05-16 14:58:08|did:plc:254fa7kdh...|      0|      0|     0| NULL|       NULL|             NULL|             NULL|             NULL| NULL|  NULL|    NULL| NULL|bluesky|2025-05-17 20:49:...|\n",
      "|at://did:plc:254f...|Playing on Edge 1...| 2025-05-16 15:02:10|did:plc:254fa7kdh...|      0|      0|     0| NULL|       NULL|             NULL|             NULL|             NULL| NULL|  NULL|    NULL| NULL|bluesky|2025-05-17 20:49:...|\n",
      "|at://did:plc:254f...|Playing on Edge 1...| 2025-05-16 15:06:16|did:plc:254fa7kdh...|      0|      0|     0| NULL|       NULL|             NULL|             NULL|             NULL| NULL|  NULL|    NULL| NULL|bluesky|2025-05-17 20:49:...|\n",
      "|at://did:plc:254f...|Playing on Edge 1...| 2025-05-16 15:10:18|did:plc:254fa7kdh...|      0|      0|     0| NULL|       NULL|             NULL|             NULL|             NULL| NULL|  NULL|    NULL| NULL|bluesky|2025-05-17 20:49:...|\n",
      "|at://did:plc:254f...|Playing on Edge 1...| 2025-05-16 15:14:09|did:plc:254fa7kdh...|      0|      0|     0| NULL|       NULL|             NULL|             NULL|             NULL| NULL|  NULL|    NULL| NULL|bluesky|2025-05-17 20:49:...|\n",
      "|at://did:plc:254f...|Playing on Edge 1...| 2025-05-16 15:18:12|did:plc:254fa7kdh...|      0|      0|     0| NULL|       NULL|             NULL|             NULL|             NULL| NULL|  NULL|    NULL| NULL|bluesky|2025-05-17 20:49:...|\n",
      "|at://did:plc:254f...|Playing on Edge 1...| 2025-05-16 15:22:10|did:plc:254fa7kdh...|      0|      0|     0| NULL|       NULL|             NULL|             NULL|             NULL| NULL|  NULL|    NULL| NULL|bluesky|2025-05-17 20:49:...|\n",
      "|at://did:plc:254f...|Playing on Edge 1...| 2025-05-16 15:33:49|did:plc:254fa7kdh...|      0|      0|     0| NULL|       NULL|             NULL|             NULL|             NULL| NULL|  NULL|    NULL| NULL|bluesky|2025-05-17 20:49:...|\n",
      "+--------------------+--------------------+--------------------+--------------------+-------+-------+------+-----+-----------+-----------------+-----------------+-----------------+-----+------+--------+-----+-------+--------------------+\n",
      "only showing top 20 rows\n",
      "\n"
     ]
    }
   ],
   "source": [
    "df.show()"
   ]
  }
 ],
 "metadata": {
  "kernelspec": {
   "display_name": "Python 3 (ipykernel)",
   "language": "python",
   "name": "python3"
  },
  "language_info": {
   "codemirror_mode": {
    "name": "ipython",
    "version": 3
   },
   "file_extension": ".py",
   "mimetype": "text/x-python",
   "name": "python",
   "nbconvert_exporter": "python",
   "pygments_lexer": "ipython3",
   "version": "3.11.6"
  }
 },
 "nbformat": 4,
 "nbformat_minor": 5
}

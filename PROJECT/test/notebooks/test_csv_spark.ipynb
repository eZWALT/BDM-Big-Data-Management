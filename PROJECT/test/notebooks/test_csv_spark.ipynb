{
 "cells": [
  {
   "cell_type": "code",
   "execution_count": 1,
   "id": "e1e3146d-1078-4027-9df2-7c4d02a8d6f1",
   "metadata": {},
   "outputs": [
    {
     "name": "stdout",
     "output_type": "stream",
     "text": [
      "env: MINIO_HOST=minio\n",
      "env: MINIO_PORT=9000\n",
      "env: AWS_SECRET_KEY=EI1RW90H9KpLAaG8AOJlK1rnsEnWhfM5gvcfqq9d\n",
      "env: AWS_ACCESS_KEY=SFFTcTnl3QKhg5XxVW6O\n"
     ]
    }
   ],
   "source": [
    "%env MINIO_HOST=minio\n",
    "%env MINIO_PORT=9000\n",
    "%env AWS_SECRET_KEY=EI1RW90H9KpLAaG8AOJlK1rnsEnWhfM5gvcfqq9d\n",
    "%env AWS_ACCESS_KEY=SFFTcTnl3QKhg5XxVW6O"
   ]
  },
  {
   "cell_type": "code",
   "execution_count": 2,
   "id": "81f0032a-4f2c-4d07-9059-6563f55be499",
   "metadata": {},
   "outputs": [],
   "source": [
    "import os\n",
    "from pyspark.sql import SparkSession\n",
    "\n",
    "spark = SparkSession.builder \\\n",
    "    .appName(\"MyApp\") \\\n",
    "    .config(\"spark.jars.packages\", \"org.apache.hadoop:hadoop-aws:3.3.1,io.delta:delta-spark_2.12:3.2.0\") \\\n",
    "    .config(\"spark.sql.extensions\", \"io.delta.sql.DeltaSparkSessionExtension\") \\\n",
    "    .config(\"spark.sql.catalog.spark_catalog\", \"org.apache.spark.sql.delta.catalog.DeltaCatalog\") \\\n",
    "    .config(\"spark.executorEnv.AWS_ACCESS_KEY\", os.environ[\"AWS_ACCESS_KEY\"]) \\\n",
    "    .config(\"spark.executorEnv.AWS_SECRET_KEY\", os.environ[\"AWS_SECRET_KEY\"]) \\\n",
    "    .config(\"spark.hadoop.fs.s3a.endpoint\", f\"http://{os.environ['MINIO_HOST']}:{os.environ['MINIO_PORT']}\") \\\n",
    "    .config(\"spark.hadoop.fs.s3a.path.style.access\", \"true\") \\\n",
    "    .master(\"spark://spark-master:7077\") \\\n",
    "    .getOrCreate()"
   ]
  },
  {
   "cell_type": "code",
   "execution_count": 3,
   "id": "daa578af-2893-45da-8499-16aa5e9317fc",
   "metadata": {},
   "outputs": [],
   "source": [
    "import random\n",
    "\n",
    "data = [(random.randint(1, 100), random.randint(1, 100)) for _ in range(100)]\n",
    "df = spark.createDataFrame(data, [\"col1\", \"col2\"])\n",
    "df.write.format(\"csv\").mode(\"overwrite\").save(\"s3a://landing/test-csv-table\")"
   ]
  },
  {
   "cell_type": "code",
   "execution_count": 4,
   "id": "9c90b3ab-968b-416f-99ac-7f719d82e7a8",
   "metadata": {},
   "outputs": [],
   "source": [
    "data = [(random.randint(1, 100), random.randint(1, 100)) for _ in range(100)]\n",
    "df = spark.createDataFrame(data, [\"col1\", \"col2\"])\n",
    "df.write.format(\"delta\").mode(\"overwrite\").save(\"s3a://landing/test-delta-table\")"
   ]
  }
 ],
 "metadata": {
  "kernelspec": {
   "display_name": "Python 3 (ipykernel)",
   "language": "python",
   "name": "python3"
  },
  "language_info": {
   "codemirror_mode": {
    "name": "ipython",
    "version": 3
   },
   "file_extension": ".py",
   "mimetype": "text/x-python",
   "name": "python",
   "nbconvert_exporter": "python",
   "pygments_lexer": "ipython3",
   "version": "3.11.6"
  }
 },
 "nbformat": 4,
 "nbformat_minor": 5
}

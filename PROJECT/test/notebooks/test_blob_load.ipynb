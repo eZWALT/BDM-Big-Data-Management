{
 "cells": [
  {
   "cell_type": "code",
   "execution_count": 29,
   "id": "68bbfdee-febc-4555-89d9-dbb0f96e2665",
   "metadata": {},
   "outputs": [
    {
     "name": "stdout",
     "output_type": "stream",
     "text": [
      "env: MINIO_HOST=minio\n",
      "env: MINIO_PORT=9000\n",
      "env: AWS_SECRET_KEY=EI1RW90H9KpLAaG8AOJlK1rnsEnWhfM5gvcfqq9d\n",
      "env: AWS_ACCESS_KEY=SFFTcTnl3QKhg5XxVW6O\n"
     ]
    }
   ],
   "source": [
    "%env MINIO_HOST=minio\n",
    "%env MINIO_PORT=9000\n",
    "%env AWS_SECRET_KEY=EI1RW90H9KpLAaG8AOJlK1rnsEnWhfM5gvcfqq9d\n",
    "%env AWS_ACCESS_KEY=SFFTcTnl3QKhg5XxVW6O"
   ]
  },
  {
   "cell_type": "code",
   "execution_count": 5,
   "id": "5c07fd20-df08-484a-be76-08225a851247",
   "metadata": {},
   "outputs": [],
   "source": [
    "input_path = \"buffer/youtube-803b3eb2/thumbnails\"\n",
    "output_path = \"landing/youtube-803b3eb2/thumbnails\""
   ]
  },
  {
   "cell_type": "code",
   "execution_count": 10,
   "id": "bc2f8b1d-cc23-4f89-b473-09e99f469f2d",
   "metadata": {},
   "outputs": [
    {
     "name": "stdout",
     "output_type": "stream",
     "text": [
      "Collecting minio\n",
      "  Downloading minio-7.2.15-py3-none-any.whl.metadata (6.7 kB)\n",
      "Requirement already satisfied: certifi in /opt/conda/lib/python3.11/site-packages (from minio) (2023.7.22)\n",
      "Requirement already satisfied: urllib3 in /opt/conda/lib/python3.11/site-packages (from minio) (2.0.7)\n",
      "Requirement already satisfied: argon2-cffi in /opt/conda/lib/python3.11/site-packages (from minio) (23.1.0)\n",
      "Collecting pycryptodome (from minio)\n",
      "  Downloading pycryptodome-3.22.0-cp37-abi3-manylinux_2_17_x86_64.manylinux2014_x86_64.whl.metadata (3.4 kB)\n",
      "Requirement already satisfied: typing-extensions in /opt/conda/lib/python3.11/site-packages (from minio) (4.8.0)\n",
      "Requirement already satisfied: argon2-cffi-bindings in /opt/conda/lib/python3.11/site-packages (from argon2-cffi->minio) (21.2.0)\n",
      "Requirement already satisfied: cffi>=1.0.1 in /opt/conda/lib/python3.11/site-packages (from argon2-cffi-bindings->argon2-cffi->minio) (1.16.0)\n",
      "Requirement already satisfied: pycparser in /opt/conda/lib/python3.11/site-packages (from cffi>=1.0.1->argon2-cffi-bindings->argon2-cffi->minio) (2.21)\n",
      "Downloading minio-7.2.15-py3-none-any.whl (95 kB)\n",
      "\u001b[2K   \u001b[90m━━━━━━━━━━━━━━━━━━━━━━━━━━━━━━━━━━━━━━━━\u001b[0m \u001b[32m95.1/95.1 kB\u001b[0m \u001b[31m3.2 MB/s\u001b[0m eta \u001b[36m0:00:00\u001b[0m\n",
      "\u001b[?25hDownloading pycryptodome-3.22.0-cp37-abi3-manylinux_2_17_x86_64.manylinux2014_x86_64.whl (2.3 MB)\n",
      "\u001b[2K   \u001b[90m━━━━━━━━━━━━━━━━━━━━━━━━━━━━━━━━━━━━━━━━\u001b[0m \u001b[32m2.3/2.3 MB\u001b[0m \u001b[31m31.6 MB/s\u001b[0m eta \u001b[36m0:00:00\u001b[0m00:01\u001b[0m00:01\u001b[0m\n",
      "\u001b[?25hInstalling collected packages: pycryptodome, minio\n",
      "Successfully installed minio-7.2.15 pycryptodome-3.22.0\n",
      "Note: you may need to restart the kernel to use updated packages.\n"
     ]
    }
   ],
   "source": [
    "%pip install minio"
   ]
  },
  {
   "cell_type": "code",
   "execution_count": 62,
   "id": "b47829e0-fb09-42f2-9fbe-f78da806a631",
   "metadata": {},
   "outputs": [],
   "source": [
    "from minio import Minio\n",
    "from minio.commonconfig import CopySource"
   ]
  },
  {
   "cell_type": "code",
   "execution_count": 33,
   "id": "544f679f-0124-47b1-aad5-8b1e6f47112d",
   "metadata": {},
   "outputs": [
    {
     "name": "stdout",
     "output_type": "stream",
     "text": [
      "Setting up connection with endpoint=minio:9000 access_key=SFFTcTnl3QKhg5XxVW6O secret_key=EI1RW90H9KpLAaG8AOJlK1rnsEnWhfM5gvcfqq9d\n"
     ]
    }
   ],
   "source": [
    "print(f\"Setting up connection with endpoint={os.environ['MINIO_HOST']}:{os.environ['MINIO_PORT']} access_key={os.environ['AWS_ACCESS_KEY']} secret_key={os.environ['AWS_SECRET_KEY']}\")\n",
    "minio = Minio(f\"{os.environ['MINIO_HOST']}:{os.environ['MINIO_PORT']}\", access_key=os.environ[\"AWS_ACCESS_KEY\"], secret_key=os.environ[\"AWS_SECRET_KEY\"], secure=False)        "
   ]
  },
  {
   "cell_type": "code",
   "execution_count": 69,
   "id": "d7cf6b35-4b77-49e7-9244-c5fe5e129148",
   "metadata": {},
   "outputs": [
    {
     "name": "stdout",
     "output_type": "stream",
     "text": [
      "Copying data from bucket=buffer,folder=youtube-803b3eb2/thumbnails to bucket=landing,folder=youtube-803b3eb2/thumbnails\n",
      "Server-copying file buffer/youtube-803b3eb2/thumbnails/-gmEhno6-98.jpg to landing/youtube-803b3eb2/thumbnails/-gmEhno6-98.jpg\n",
      "Server-copying file buffer/youtube-803b3eb2/thumbnails/1QH4SrE6Ej8.jpg to landing/youtube-803b3eb2/thumbnails/1QH4SrE6Ej8.jpg\n",
      "Server-copying file buffer/youtube-803b3eb2/thumbnails/BhlC9aC12xg.jpg to landing/youtube-803b3eb2/thumbnails/BhlC9aC12xg.jpg\n",
      "Server-copying file buffer/youtube-803b3eb2/thumbnails/E23vw63d6Ng.jpg to landing/youtube-803b3eb2/thumbnails/E23vw63d6Ng.jpg\n",
      "Server-copying file buffer/youtube-803b3eb2/thumbnails/E7PbWC5yGDg.jpg to landing/youtube-803b3eb2/thumbnails/E7PbWC5yGDg.jpg\n",
      "Server-copying file buffer/youtube-803b3eb2/thumbnails/Ev380QTF4zM.jpg to landing/youtube-803b3eb2/thumbnails/Ev380QTF4zM.jpg\n",
      "Server-copying file buffer/youtube-803b3eb2/thumbnails/GG3I-Xfm1LY.jpg to landing/youtube-803b3eb2/thumbnails/GG3I-Xfm1LY.jpg\n",
      "Server-copying file buffer/youtube-803b3eb2/thumbnails/HYmPBjdBOY0.jpg to landing/youtube-803b3eb2/thumbnails/HYmPBjdBOY0.jpg\n",
      "Server-copying file buffer/youtube-803b3eb2/thumbnails/JcGGNP3EufE.jpg to landing/youtube-803b3eb2/thumbnails/JcGGNP3EufE.jpg\n",
      "Server-copying file buffer/youtube-803b3eb2/thumbnails/MPMKkRr1AuA.jpg to landing/youtube-803b3eb2/thumbnails/MPMKkRr1AuA.jpg\n",
      "Server-copying file buffer/youtube-803b3eb2/thumbnails/O96QF5O6m3c.jpg to landing/youtube-803b3eb2/thumbnails/O96QF5O6m3c.jpg\n",
      "Server-copying file buffer/youtube-803b3eb2/thumbnails/Oh_CGyTPHBs.jpg to landing/youtube-803b3eb2/thumbnails/Oh_CGyTPHBs.jpg\n",
      "Server-copying file buffer/youtube-803b3eb2/thumbnails/OwL1_oz4L9k.jpg to landing/youtube-803b3eb2/thumbnails/OwL1_oz4L9k.jpg\n",
      "Server-copying file buffer/youtube-803b3eb2/thumbnails/Ox-E7KkVck0.jpg to landing/youtube-803b3eb2/thumbnails/Ox-E7KkVck0.jpg\n",
      "Server-copying file buffer/youtube-803b3eb2/thumbnails/RhaACFKM5MI.jpg to landing/youtube-803b3eb2/thumbnails/RhaACFKM5MI.jpg\n",
      "Server-copying file buffer/youtube-803b3eb2/thumbnails/Rs9qQa2SJVM.jpg to landing/youtube-803b3eb2/thumbnails/Rs9qQa2SJVM.jpg\n",
      "Server-copying file buffer/youtube-803b3eb2/thumbnails/RutIJxA-m1o.jpg to landing/youtube-803b3eb2/thumbnails/RutIJxA-m1o.jpg\n",
      "Server-copying file buffer/youtube-803b3eb2/thumbnails/ShiGa9JSGOo.jpg to landing/youtube-803b3eb2/thumbnails/ShiGa9JSGOo.jpg\n",
      "Server-copying file buffer/youtube-803b3eb2/thumbnails/W3A-wDgxbL0.jpg to landing/youtube-803b3eb2/thumbnails/W3A-wDgxbL0.jpg\n",
      "Server-copying file buffer/youtube-803b3eb2/thumbnails/WDSiqGXOV3g.jpg to landing/youtube-803b3eb2/thumbnails/WDSiqGXOV3g.jpg\n",
      "Server-copying file buffer/youtube-803b3eb2/thumbnails/XOE3b-Grp98.jpg to landing/youtube-803b3eb2/thumbnails/XOE3b-Grp98.jpg\n",
      "Server-copying file buffer/youtube-803b3eb2/thumbnails/X_vLV5aavYY.jpg to landing/youtube-803b3eb2/thumbnails/X_vLV5aavYY.jpg\n",
      "Server-copying file buffer/youtube-803b3eb2/thumbnails/_2KEAhTKNRE.jpg to landing/youtube-803b3eb2/thumbnails/_2KEAhTKNRE.jpg\n",
      "Server-copying file buffer/youtube-803b3eb2/thumbnails/_Zbhs0GEz9k.jpg to landing/youtube-803b3eb2/thumbnails/_Zbhs0GEz9k.jpg\n",
      "Server-copying file buffer/youtube-803b3eb2/thumbnails/b6ppzHBwgaQ.jpg to landing/youtube-803b3eb2/thumbnails/b6ppzHBwgaQ.jpg\n",
      "Server-copying file buffer/youtube-803b3eb2/thumbnails/bO51bkIMKk4.jpg to landing/youtube-803b3eb2/thumbnails/bO51bkIMKk4.jpg\n",
      "Server-copying file buffer/youtube-803b3eb2/thumbnails/eZPREJ7RRLU.jpg to landing/youtube-803b3eb2/thumbnails/eZPREJ7RRLU.jpg\n",
      "Server-copying file buffer/youtube-803b3eb2/thumbnails/fasguWxiuIs.jpg to landing/youtube-803b3eb2/thumbnails/fasguWxiuIs.jpg\n",
      "Server-copying file buffer/youtube-803b3eb2/thumbnails/gsOxYjb2z6w.jpg to landing/youtube-803b3eb2/thumbnails/gsOxYjb2z6w.jpg\n",
      "Server-copying file buffer/youtube-803b3eb2/thumbnails/iXvRpuJ4V_Y.jpg to landing/youtube-803b3eb2/thumbnails/iXvRpuJ4V_Y.jpg\n",
      "Server-copying file buffer/youtube-803b3eb2/thumbnails/k5-RGhFYz6g.jpg to landing/youtube-803b3eb2/thumbnails/k5-RGhFYz6g.jpg\n",
      "Server-copying file buffer/youtube-803b3eb2/thumbnails/mBB-KykmKf0.jpg to landing/youtube-803b3eb2/thumbnails/mBB-KykmKf0.jpg\n",
      "Server-copying file buffer/youtube-803b3eb2/thumbnails/mlvIteKqyfo.jpg to landing/youtube-803b3eb2/thumbnails/mlvIteKqyfo.jpg\n",
      "Server-copying file buffer/youtube-803b3eb2/thumbnails/oOgi1d6K1s8.jpg to landing/youtube-803b3eb2/thumbnails/oOgi1d6K1s8.jpg\n",
      "Server-copying file buffer/youtube-803b3eb2/thumbnails/qAt_0T4Tqjg.jpg to landing/youtube-803b3eb2/thumbnails/qAt_0T4Tqjg.jpg\n",
      "Server-copying file buffer/youtube-803b3eb2/thumbnails/wCBo_i3GQBI.jpg to landing/youtube-803b3eb2/thumbnails/wCBo_i3GQBI.jpg\n",
      "Server-copying file buffer/youtube-803b3eb2/thumbnails/xhX7OyryEQA.jpg to landing/youtube-803b3eb2/thumbnails/xhX7OyryEQA.jpg\n",
      "Server-copying file buffer/youtube-803b3eb2/thumbnails/yRKaVgX-wrQ.jpg to landing/youtube-803b3eb2/thumbnails/yRKaVgX-wrQ.jpg\n",
      "Removing 38 files\n"
     ]
    }
   ],
   "source": [
    "src_bucket, src_folder = input_path.split(\"/\", 1)\n",
    "dst_bucket, dst_folder = output_path.split(\"/\", 1)\n",
    "remove = True\n",
    "\n",
    "print(f\"Copying data from bucket={src_bucket},folder={src_folder} to bucket={dst_bucket},folder={dst_folder}\")\n",
    "src_files = minio.list_objects(src_bucket, recursive=True, prefix=src_folder)\n",
    "delete_files = []\n",
    "for file in src_files:\n",
    "    src_basename = os.path.basename(file.object_name)\n",
    "    dst_file = os.path.join(dst_folder, src_basename)\n",
    "    print(f\"Server-copying file {src_bucket}/{file.object_name} to {dst_bucket}/{dst_file}\")\n",
    "    minio.copy_object(dst_bucket, dst_file, CopySource(src_bucket, file.object_name))\n",
    "    delete_files.append(file.object_name)\n",
    "\n",
    "if remove:\n",
    "    print(f\"Removing {len(delete_files)} files\")\n",
    "    for file in delete_files:\n",
    "        minio.remove_object(src_bucket, file)\n"
   ]
  }
 ],
 "metadata": {
  "kernelspec": {
   "display_name": "Python 3 (ipykernel)",
   "language": "python",
   "name": "python3"
  },
  "language_info": {
   "codemirror_mode": {
    "name": "ipython",
    "version": 3
   },
   "file_extension": ".py",
   "mimetype": "text/x-python",
   "name": "python",
   "nbconvert_exporter": "python",
   "pygments_lexer": "ipython3",
   "version": "3.11.6"
  }
 },
 "nbformat": 4,
 "nbformat_minor": 5
}
